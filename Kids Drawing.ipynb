{
 "cells": [
  {
   "cell_type": "code",
   "execution_count": 10,
   "id": "d83486c9",
   "metadata": {},
   "outputs": [],
   "source": [
    "import pandas as pd"
   ]
  },
  {
   "cell_type": "code",
   "execution_count": 14,
   "id": "f4ee21f9",
   "metadata": {},
   "outputs": [],
   "source": [
    "df = pd.read_csv(r'C:\\Users\\yasmi\\OneDrive\\Desktop\\2.csv', sep=',')"
   ]
  },
  {
   "cell_type": "code",
   "execution_count": 15,
   "id": "e5345f31",
   "metadata": {},
   "outputs": [
    {
     "data": {
      "text/html": [
       "<div>\n",
       "<style scoped>\n",
       "    .dataframe tbody tr th:only-of-type {\n",
       "        vertical-align: middle;\n",
       "    }\n",
       "\n",
       "    .dataframe tbody tr th {\n",
       "        vertical-align: top;\n",
       "    }\n",
       "\n",
       "    .dataframe thead th {\n",
       "        text-align: right;\n",
       "    }\n",
       "</style>\n",
       "<table border=\"1\" class=\"dataframe\">\n",
       "  <thead>\n",
       "    <tr style=\"text-align: right;\">\n",
       "      <th></th>\n",
       "      <th>X</th>\n",
       "      <th>Y</th>\n",
       "      <th>Pressure</th>\n",
       "      <th>TiltX</th>\n",
       "      <th>TiltY</th>\n",
       "      <th>Time</th>\n",
       "    </tr>\n",
       "  </thead>\n",
       "  <tbody>\n",
       "    <tr>\n",
       "      <th>0</th>\n",
       "      <td>538.995265</td>\n",
       "      <td>793.141933</td>\n",
       "      <td>0.007797</td>\n",
       "      <td>-5564.0</td>\n",
       "      <td>-521.0</td>\n",
       "      <td>00:05.5</td>\n",
       "    </tr>\n",
       "    <tr>\n",
       "      <th>1</th>\n",
       "      <td>539.153251</td>\n",
       "      <td>792.246680</td>\n",
       "      <td>0.007797</td>\n",
       "      <td>-5564.0</td>\n",
       "      <td>-521.0</td>\n",
       "      <td>00:05.5</td>\n",
       "    </tr>\n",
       "    <tr>\n",
       "      <th>2</th>\n",
       "      <td>539.9431805</td>\n",
       "      <td>789.929553</td>\n",
       "      <td>0.007797</td>\n",
       "      <td>-5564.0</td>\n",
       "      <td>-521.0</td>\n",
       "      <td>00:05.6</td>\n",
       "    </tr>\n",
       "    <tr>\n",
       "      <th>3</th>\n",
       "      <td>540.4171382</td>\n",
       "      <td>789.034300</td>\n",
       "      <td>0.007797</td>\n",
       "      <td>-5564.0</td>\n",
       "      <td>-521.0</td>\n",
       "      <td>00:05.6</td>\n",
       "    </tr>\n",
       "    <tr>\n",
       "      <th>4</th>\n",
       "      <td>540.7331101</td>\n",
       "      <td>788.139046</td>\n",
       "      <td>0.007797</td>\n",
       "      <td>-5564.0</td>\n",
       "      <td>-521.0</td>\n",
       "      <td>00:05.6</td>\n",
       "    </tr>\n",
       "    <tr>\n",
       "      <th>...</th>\n",
       "      <td>...</td>\n",
       "      <td>...</td>\n",
       "      <td>...</td>\n",
       "      <td>...</td>\n",
       "      <td>...</td>\n",
       "      <td>...</td>\n",
       "    </tr>\n",
       "    <tr>\n",
       "      <th>244</th>\n",
       "      <td>702.7739924</td>\n",
       "      <td>601.347038</td>\n",
       "      <td>0.371084</td>\n",
       "      <td>-4986.0</td>\n",
       "      <td>230.0</td>\n",
       "      <td>00:08.4</td>\n",
       "    </tr>\n",
       "    <tr>\n",
       "      <th>245</th>\n",
       "      <td>702.7739924</td>\n",
       "      <td>601.347038</td>\n",
       "      <td>0.367910</td>\n",
       "      <td>-4986.0</td>\n",
       "      <td>230.0</td>\n",
       "      <td>00:08.4</td>\n",
       "    </tr>\n",
       "    <tr>\n",
       "      <th>246</th>\n",
       "      <td>702.7739924</td>\n",
       "      <td>601.347038</td>\n",
       "      <td>0.341299</td>\n",
       "      <td>-4986.0</td>\n",
       "      <td>230.0</td>\n",
       "      <td>00:08.4</td>\n",
       "    </tr>\n",
       "    <tr>\n",
       "      <th>247</th>\n",
       "      <td>Time Elapsed till drawing started: 00:05.5315422</td>\n",
       "      <td>NaN</td>\n",
       "      <td>NaN</td>\n",
       "      <td>NaN</td>\n",
       "      <td>NaN</td>\n",
       "      <td>NaN</td>\n",
       "    </tr>\n",
       "    <tr>\n",
       "      <th>248</th>\n",
       "      <td>Time Elapsed till drawing submit: 00:10.0840076</td>\n",
       "      <td>NaN</td>\n",
       "      <td>NaN</td>\n",
       "      <td>NaN</td>\n",
       "      <td>NaN</td>\n",
       "      <td>NaN</td>\n",
       "    </tr>\n",
       "  </tbody>\n",
       "</table>\n",
       "<p>249 rows × 6 columns</p>\n",
       "</div>"
      ],
      "text/plain": [
       "                                                    X           Y   Pressure  \\\n",
       "0                                          538.995265  793.141933   0.007797   \n",
       "1                                          539.153251  792.246680   0.007797   \n",
       "2                                         539.9431805  789.929553   0.007797   \n",
       "3                                         540.4171382  789.034300   0.007797   \n",
       "4                                         540.7331101  788.139046   0.007797   \n",
       "..                                                ...         ...        ...   \n",
       "244                                       702.7739924  601.347038   0.371084   \n",
       "245                                       702.7739924  601.347038   0.367910   \n",
       "246                                       702.7739924  601.347038   0.341299   \n",
       "247  Time Elapsed till drawing started: 00:05.5315422         NaN        NaN   \n",
       "248   Time Elapsed till drawing submit: 00:10.0840076         NaN        NaN   \n",
       "\n",
       "      TiltX   TiltY     Time  \n",
       "0   -5564.0  -521.0  00:05.5  \n",
       "1   -5564.0  -521.0  00:05.5  \n",
       "2   -5564.0  -521.0  00:05.6  \n",
       "3   -5564.0  -521.0  00:05.6  \n",
       "4   -5564.0  -521.0  00:05.6  \n",
       "..      ...     ...      ...  \n",
       "244 -4986.0   230.0  00:08.4  \n",
       "245 -4986.0   230.0  00:08.4  \n",
       "246 -4986.0   230.0  00:08.4  \n",
       "247     NaN     NaN      NaN  \n",
       "248     NaN     NaN      NaN  \n",
       "\n",
       "[249 rows x 6 columns]"
      ]
     },
     "execution_count": 15,
     "metadata": {},
     "output_type": "execute_result"
    }
   ],
   "source": [
    "df"
   ]
  },
  {
   "cell_type": "markdown",
   "id": "4e1dbc34",
   "metadata": {},
   "source": [
    "# Question 2"
   ]
  },
  {
   "cell_type": "markdown",
   "id": "9fdb9434",
   "metadata": {},
   "source": [
    "**Lets count the length of the drawing**"
   ]
  },
  {
   "cell_type": "code",
   "execution_count": 38,
   "id": "f90f3750",
   "metadata": {},
   "outputs": [
    {
     "data": {
      "text/plain": [
       "'538.995265'"
      ]
     },
     "execution_count": 38,
     "metadata": {},
     "output_type": "execute_result"
    }
   ],
   "source": [
    "Xmin = df['X'].values[0]\n",
    "Xmin"
   ]
  },
  {
   "cell_type": "code",
   "execution_count": 39,
   "id": "b48891df",
   "metadata": {},
   "outputs": [
    {
     "data": {
      "text/plain": [
       "'702.7739924'"
      ]
     },
     "execution_count": 39,
     "metadata": {},
     "output_type": "execute_result"
    }
   ],
   "source": [
    "Xmax = df['X'].values[-3]\n",
    "Xmax"
   ]
  },
  {
   "cell_type": "code",
   "execution_count": 42,
   "id": "d2e700e4",
   "metadata": {},
   "outputs": [
    {
     "data": {
      "text/plain": [
       "793.1419332"
      ]
     },
     "execution_count": 42,
     "metadata": {},
     "output_type": "execute_result"
    }
   ],
   "source": [
    "Ymin = df[' Y'].values[0]\n",
    "Ymin"
   ]
  },
  {
   "cell_type": "code",
   "execution_count": 43,
   "id": "0027050a",
   "metadata": {},
   "outputs": [
    {
     "data": {
      "text/plain": [
       "601.3470378"
      ]
     },
     "execution_count": 43,
     "metadata": {},
     "output_type": "execute_result"
    }
   ],
   "source": [
    "Ymax = df[' Y'].values[-3]\n",
    "Ymax"
   ]
  },
  {
   "cell_type": "code",
   "execution_count": null,
   "id": "83eadcc9",
   "metadata": {},
   "outputs": [],
   "source": []
  }
 ],
 "metadata": {
  "kernelspec": {
   "display_name": "Python 3",
   "language": "python",
   "name": "python3"
  },
  "language_info": {
   "codemirror_mode": {
    "name": "ipython",
    "version": 3
   },
   "file_extension": ".py",
   "mimetype": "text/x-python",
   "name": "python",
   "nbconvert_exporter": "python",
   "pygments_lexer": "ipython3",
   "version": "3.8.8"
  }
 },
 "nbformat": 4,
 "nbformat_minor": 5
}
