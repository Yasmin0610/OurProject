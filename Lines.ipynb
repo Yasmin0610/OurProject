{
 "cells": [
  {
   "cell_type": "code",
   "execution_count": 1,
   "id": "b5f08c90",
   "metadata": {},
   "outputs": [],
   "source": [
    "import pandas as pd"
   ]
  },
  {
   "cell_type": "code",
   "execution_count": 2,
   "id": "acb68737",
   "metadata": {},
   "outputs": [],
   "source": [
    "df = pd.read_csv(r'C:\\Users\\Maya\\Desktop\\Drawing1.csv', sep =',')"
   ]
  },
  {
   "cell_type": "code",
   "execution_count": 3,
   "id": "371618d8",
   "metadata": {},
   "outputs": [
    {
     "data": {
      "text/html": [
       "<div>\n",
       "<style scoped>\n",
       "    .dataframe tbody tr th:only-of-type {\n",
       "        vertical-align: middle;\n",
       "    }\n",
       "\n",
       "    .dataframe tbody tr th {\n",
       "        vertical-align: top;\n",
       "    }\n",
       "\n",
       "    .dataframe thead th {\n",
       "        text-align: right;\n",
       "    }\n",
       "</style>\n",
       "<table border=\"1\" class=\"dataframe\">\n",
       "  <thead>\n",
       "    <tr style=\"text-align: right;\">\n",
       "      <th></th>\n",
       "      <th>X</th>\n",
       "      <th>Y</th>\n",
       "      <th>Pressure</th>\n",
       "      <th>TiltX</th>\n",
       "      <th>TiltY</th>\n",
       "      <th>Time</th>\n",
       "    </tr>\n",
       "  </thead>\n",
       "  <tbody>\n",
       "    <tr>\n",
       "      <th>0</th>\n",
       "      <td>925.9027601</td>\n",
       "      <td>665.541979</td>\n",
       "      <td>0.045884</td>\n",
       "      <td>-4917.0</td>\n",
       "      <td>669.0</td>\n",
       "      <td>00:12.6</td>\n",
       "    </tr>\n",
       "    <tr>\n",
       "      <th>1</th>\n",
       "      <td>925.9027601</td>\n",
       "      <td>665.541979</td>\n",
       "      <td>0.045884</td>\n",
       "      <td>-4917.0</td>\n",
       "      <td>669.0</td>\n",
       "      <td>00:12.6</td>\n",
       "    </tr>\n",
       "    <tr>\n",
       "      <th>2</th>\n",
       "      <td>926.6926897</td>\n",
       "      <td>665.647303</td>\n",
       "      <td>0.082506</td>\n",
       "      <td>-4917.0</td>\n",
       "      <td>669.0</td>\n",
       "      <td>00:12.6</td>\n",
       "    </tr>\n",
       "    <tr>\n",
       "      <th>3</th>\n",
       "      <td>927.0086615</td>\n",
       "      <td>665.647303</td>\n",
       "      <td>0.115953</td>\n",
       "      <td>-4917.0</td>\n",
       "      <td>669.0</td>\n",
       "      <td>00:12.7</td>\n",
       "    </tr>\n",
       "    <tr>\n",
       "      <th>4</th>\n",
       "      <td>927.3246333</td>\n",
       "      <td>665.594641</td>\n",
       "      <td>0.140368</td>\n",
       "      <td>-4917.0</td>\n",
       "      <td>669.0</td>\n",
       "      <td>00:12.7</td>\n",
       "    </tr>\n",
       "    <tr>\n",
       "      <th>...</th>\n",
       "      <td>...</td>\n",
       "      <td>...</td>\n",
       "      <td>...</td>\n",
       "      <td>...</td>\n",
       "      <td>...</td>\n",
       "      <td>...</td>\n",
       "    </tr>\n",
       "    <tr>\n",
       "      <th>129</th>\n",
       "      <td>584.8638411</td>\n",
       "      <td>646.846980</td>\n",
       "      <td>0.386954</td>\n",
       "      <td>-4510.0</td>\n",
       "      <td>1946.0</td>\n",
       "      <td>00:14.1</td>\n",
       "    </tr>\n",
       "    <tr>\n",
       "      <th>130</th>\n",
       "      <td>584.6531932</td>\n",
       "      <td>646.741656</td>\n",
       "      <td>0.386954</td>\n",
       "      <td>-4501.0</td>\n",
       "      <td>1991.0</td>\n",
       "      <td>00:14.1</td>\n",
       "    </tr>\n",
       "    <tr>\n",
       "      <th>131</th>\n",
       "      <td>584.6531932</td>\n",
       "      <td>646.741656</td>\n",
       "      <td>0.389151</td>\n",
       "      <td>-4501.0</td>\n",
       "      <td>1991.0</td>\n",
       "      <td>00:14.1</td>\n",
       "    </tr>\n",
       "    <tr>\n",
       "      <th>132</th>\n",
       "      <td>Time Elapsed till drawing started: 00:11.2234987</td>\n",
       "      <td>NaN</td>\n",
       "      <td>NaN</td>\n",
       "      <td>NaN</td>\n",
       "      <td>NaN</td>\n",
       "      <td>NaN</td>\n",
       "    </tr>\n",
       "    <tr>\n",
       "      <th>133</th>\n",
       "      <td>Time Elapsed till drawing submit: 00:17.1449348</td>\n",
       "      <td>NaN</td>\n",
       "      <td>NaN</td>\n",
       "      <td>NaN</td>\n",
       "      <td>NaN</td>\n",
       "      <td>NaN</td>\n",
       "    </tr>\n",
       "  </tbody>\n",
       "</table>\n",
       "<p>134 rows × 6 columns</p>\n",
       "</div>"
      ],
      "text/plain": [
       "                                                    X           Y   Pressure  \\\n",
       "0                                         925.9027601  665.541979   0.045884   \n",
       "1                                         925.9027601  665.541979   0.045884   \n",
       "2                                         926.6926897  665.647303   0.082506   \n",
       "3                                         927.0086615  665.647303   0.115953   \n",
       "4                                         927.3246333  665.594641   0.140368   \n",
       "..                                                ...         ...        ...   \n",
       "129                                       584.8638411  646.846980   0.386954   \n",
       "130                                       584.6531932  646.741656   0.386954   \n",
       "131                                       584.6531932  646.741656   0.389151   \n",
       "132  Time Elapsed till drawing started: 00:11.2234987         NaN        NaN   \n",
       "133   Time Elapsed till drawing submit: 00:17.1449348         NaN        NaN   \n",
       "\n",
       "      TiltX   TiltY     Time  \n",
       "0   -4917.0   669.0  00:12.6  \n",
       "1   -4917.0   669.0  00:12.6  \n",
       "2   -4917.0   669.0  00:12.6  \n",
       "3   -4917.0   669.0  00:12.7  \n",
       "4   -4917.0   669.0  00:12.7  \n",
       "..      ...     ...      ...  \n",
       "129 -4510.0  1946.0  00:14.1  \n",
       "130 -4501.0  1991.0  00:14.1  \n",
       "131 -4501.0  1991.0  00:14.1  \n",
       "132     NaN     NaN      NaN  \n",
       "133     NaN     NaN      NaN  \n",
       "\n",
       "[134 rows x 6 columns]"
      ]
     },
     "execution_count": 3,
     "metadata": {},
     "output_type": "execute_result"
    }
   ],
   "source": [
    "df"
   ]
  },
  {
   "cell_type": "code",
   "execution_count": 4,
   "id": "6ccfeb41",
   "metadata": {},
   "outputs": [
    {
     "data": {
      "text/html": [
       "<div>\n",
       "<style scoped>\n",
       "    .dataframe tbody tr th:only-of-type {\n",
       "        vertical-align: middle;\n",
       "    }\n",
       "\n",
       "    .dataframe tbody tr th {\n",
       "        vertical-align: top;\n",
       "    }\n",
       "\n",
       "    .dataframe thead th {\n",
       "        text-align: right;\n",
       "    }\n",
       "</style>\n",
       "<table border=\"1\" class=\"dataframe\">\n",
       "  <thead>\n",
       "    <tr style=\"text-align: right;\">\n",
       "      <th></th>\n",
       "      <th>X</th>\n",
       "      <th>Y</th>\n",
       "      <th>Pressure</th>\n",
       "      <th>TiltX</th>\n",
       "      <th>TiltY</th>\n",
       "      <th>Time</th>\n",
       "    </tr>\n",
       "  </thead>\n",
       "  <tbody>\n",
       "    <tr>\n",
       "      <th>0</th>\n",
       "      <td>925.9027601</td>\n",
       "      <td>665.541979</td>\n",
       "      <td>0.045884</td>\n",
       "      <td>-4917.0</td>\n",
       "      <td>669.0</td>\n",
       "      <td>00:12.6</td>\n",
       "    </tr>\n",
       "    <tr>\n",
       "      <th>1</th>\n",
       "      <td>925.9027601</td>\n",
       "      <td>665.541979</td>\n",
       "      <td>0.045884</td>\n",
       "      <td>-4917.0</td>\n",
       "      <td>669.0</td>\n",
       "      <td>00:12.6</td>\n",
       "    </tr>\n",
       "    <tr>\n",
       "      <th>2</th>\n",
       "      <td>926.6926897</td>\n",
       "      <td>665.647303</td>\n",
       "      <td>0.082506</td>\n",
       "      <td>-4917.0</td>\n",
       "      <td>669.0</td>\n",
       "      <td>00:12.6</td>\n",
       "    </tr>\n",
       "    <tr>\n",
       "      <th>3</th>\n",
       "      <td>927.0086615</td>\n",
       "      <td>665.647303</td>\n",
       "      <td>0.115953</td>\n",
       "      <td>-4917.0</td>\n",
       "      <td>669.0</td>\n",
       "      <td>00:12.7</td>\n",
       "    </tr>\n",
       "    <tr>\n",
       "      <th>4</th>\n",
       "      <td>927.3246333</td>\n",
       "      <td>665.594641</td>\n",
       "      <td>0.140368</td>\n",
       "      <td>-4917.0</td>\n",
       "      <td>669.0</td>\n",
       "      <td>00:12.7</td>\n",
       "    </tr>\n",
       "    <tr>\n",
       "      <th>...</th>\n",
       "      <td>...</td>\n",
       "      <td>...</td>\n",
       "      <td>...</td>\n",
       "      <td>...</td>\n",
       "      <td>...</td>\n",
       "      <td>...</td>\n",
       "    </tr>\n",
       "    <tr>\n",
       "      <th>127</th>\n",
       "      <td>585.4957847</td>\n",
       "      <td>647.004966</td>\n",
       "      <td>0.378408</td>\n",
       "      <td>-4510.0</td>\n",
       "      <td>1946.0</td>\n",
       "      <td>00:14.0</td>\n",
       "    </tr>\n",
       "    <tr>\n",
       "      <th>128</th>\n",
       "      <td>584.8638411</td>\n",
       "      <td>646.846980</td>\n",
       "      <td>0.382803</td>\n",
       "      <td>-4510.0</td>\n",
       "      <td>1946.0</td>\n",
       "      <td>00:14.0</td>\n",
       "    </tr>\n",
       "    <tr>\n",
       "      <th>129</th>\n",
       "      <td>584.8638411</td>\n",
       "      <td>646.846980</td>\n",
       "      <td>0.386954</td>\n",
       "      <td>-4510.0</td>\n",
       "      <td>1946.0</td>\n",
       "      <td>00:14.1</td>\n",
       "    </tr>\n",
       "    <tr>\n",
       "      <th>130</th>\n",
       "      <td>584.6531932</td>\n",
       "      <td>646.741656</td>\n",
       "      <td>0.386954</td>\n",
       "      <td>-4501.0</td>\n",
       "      <td>1991.0</td>\n",
       "      <td>00:14.1</td>\n",
       "    </tr>\n",
       "    <tr>\n",
       "      <th>131</th>\n",
       "      <td>584.6531932</td>\n",
       "      <td>646.741656</td>\n",
       "      <td>0.389151</td>\n",
       "      <td>-4501.0</td>\n",
       "      <td>1991.0</td>\n",
       "      <td>00:14.1</td>\n",
       "    </tr>\n",
       "  </tbody>\n",
       "</table>\n",
       "<p>132 rows × 6 columns</p>\n",
       "</div>"
      ],
      "text/plain": [
       "               X           Y   Pressure   TiltX   TiltY     Time\n",
       "0    925.9027601  665.541979   0.045884 -4917.0   669.0  00:12.6\n",
       "1    925.9027601  665.541979   0.045884 -4917.0   669.0  00:12.6\n",
       "2    926.6926897  665.647303   0.082506 -4917.0   669.0  00:12.6\n",
       "3    927.0086615  665.647303   0.115953 -4917.0   669.0  00:12.7\n",
       "4    927.3246333  665.594641   0.140368 -4917.0   669.0  00:12.7\n",
       "..           ...         ...        ...     ...     ...      ...\n",
       "127  585.4957847  647.004966   0.378408 -4510.0  1946.0  00:14.0\n",
       "128  584.8638411  646.846980   0.382803 -4510.0  1946.0  00:14.0\n",
       "129  584.8638411  646.846980   0.386954 -4510.0  1946.0  00:14.1\n",
       "130  584.6531932  646.741656   0.386954 -4501.0  1991.0  00:14.1\n",
       "131  584.6531932  646.741656   0.389151 -4501.0  1991.0  00:14.1\n",
       "\n",
       "[132 rows x 6 columns]"
      ]
     },
     "execution_count": 4,
     "metadata": {},
     "output_type": "execute_result"
    }
   ],
   "source": [
    "df = df.drop(df.index[[-1,-2]])\n",
    "df"
   ]
  },
  {
   "cell_type": "code",
   "execution_count": 5,
   "id": "d49de283",
   "metadata": {},
   "outputs": [
    {
     "name": "stdout",
     "output_type": "stream",
     "text": [
      "<class 'pandas.core.frame.DataFrame'>\n",
      "Int64Index: 132 entries, 0 to 131\n",
      "Data columns (total 6 columns):\n",
      " #   Column     Non-Null Count  Dtype  \n",
      "---  ------     --------------  -----  \n",
      " 0   X          132 non-null    float64\n",
      " 1   Y          132 non-null    float64\n",
      " 2    Pressure  132 non-null    float64\n",
      " 3    TiltX     132 non-null    float64\n",
      " 4    TiltY     132 non-null    float64\n",
      " 5   Time       132 non-null    object \n",
      "dtypes: float64(5), object(1)\n",
      "memory usage: 7.2+ KB\n"
     ]
    }
   ],
   "source": [
    "df['X'] = df['X'].astype(float)\n",
    "\n",
    "df.info()"
   ]
  },
  {
   "cell_type": "markdown",
   "id": "ef29c6af",
   "metadata": {},
   "source": [
    "## Calculating distance of a line"
   ]
  },
  {
   "cell_type": "code",
   "execution_count": 6,
   "id": "4082bc84",
   "metadata": {},
   "outputs": [
    {
     "data": {
      "text/plain": [
       "927.3246333"
      ]
     },
     "execution_count": 6,
     "metadata": {},
     "output_type": "execute_result"
    }
   ],
   "source": [
    "column = df[\"X\"]\n",
    "max_x = column.max()\n",
    "max_x"
   ]
  },
  {
   "cell_type": "code",
   "execution_count": 7,
   "id": "caaf9dde",
   "metadata": {},
   "outputs": [
    {
     "data": {
      "text/plain": [
       "584.6531932"
      ]
     },
     "execution_count": 7,
     "metadata": {},
     "output_type": "execute_result"
    }
   ],
   "source": [
    "column = df[\"X\"]\n",
    "min_x = column.min()\n",
    "min_x"
   ]
  },
  {
   "cell_type": "code",
   "execution_count": 8,
   "id": "0881f77d",
   "metadata": {},
   "outputs": [
    {
     "data": {
      "text/plain": [
       "646.2150364"
      ]
     },
     "execution_count": 8,
     "metadata": {},
     "output_type": "execute_result"
    }
   ],
   "source": [
    "column = df[\"Y\"]\n",
    "max_y = column.min()\n",
    "max_y"
   ]
  },
  {
   "cell_type": "code",
   "execution_count": 9,
   "id": "48876b2f",
   "metadata": {},
   "outputs": [
    {
     "data": {
      "text/plain": [
       "646.2150364"
      ]
     },
     "execution_count": 9,
     "metadata": {},
     "output_type": "execute_result"
    }
   ],
   "source": [
    "column = df[\"Y\"]\n",
    "min_y = column.min()\n",
    "min_y"
   ]
  },
  {
   "cell_type": "code",
   "execution_count": 10,
   "id": "b784ee98",
   "metadata": {},
   "outputs": [
    {
     "data": {
      "text/plain": [
       "58711.85793010392"
      ]
     },
     "execution_count": 10,
     "metadata": {},
     "output_type": "execute_result"
    }
   ],
   "source": [
    "distance = ((min_x - max_x)**2 + (min_y - max_y)**2)**1/2\n",
    "distance"
   ]
  },
  {
   "cell_type": "code",
   "execution_count": 11,
   "id": "deef315a",
   "metadata": {},
   "outputs": [],
   "source": [
    "df['Time'] = df['Time'].str.slice(3).astype(float)"
   ]
  },
  {
   "cell_type": "code",
   "execution_count": 12,
   "id": "8f07747e",
   "metadata": {},
   "outputs": [
    {
     "name": "stdout",
     "output_type": "stream",
     "text": [
      "<class 'pandas.core.frame.DataFrame'>\n",
      "Int64Index: 132 entries, 0 to 131\n",
      "Data columns (total 6 columns):\n",
      " #   Column     Non-Null Count  Dtype  \n",
      "---  ------     --------------  -----  \n",
      " 0   X          132 non-null    float64\n",
      " 1   Y          132 non-null    float64\n",
      " 2    Pressure  132 non-null    float64\n",
      " 3    TiltX     132 non-null    float64\n",
      " 4    TiltY     132 non-null    float64\n",
      " 5   Time       132 non-null    float64\n",
      "dtypes: float64(6)\n",
      "memory usage: 7.2 KB\n"
     ]
    }
   ],
   "source": [
    "df.info()"
   ]
  },
  {
   "cell_type": "markdown",
   "id": "beffb813",
   "metadata": {},
   "source": [
    "## Calculating number of times of hand lifting"
   ]
  },
  {
   "cell_type": "code",
   "execution_count": 13,
   "id": "40f44264",
   "metadata": {},
   "outputs": [
    {
     "data": {
      "text/plain": [
       "12.6"
      ]
     },
     "execution_count": 13,
     "metadata": {},
     "output_type": "execute_result"
    }
   ],
   "source": [
    "i=0\n",
    "df.iloc[i,5]"
   ]
  },
  {
   "cell_type": "code",
   "execution_count": 14,
   "id": "ecf43fb7",
   "metadata": {},
   "outputs": [
    {
     "data": {
      "text/plain": [
       "12.6"
      ]
     },
     "execution_count": 14,
     "metadata": {},
     "output_type": "execute_result"
    }
   ],
   "source": [
    "df.iloc[i+1,5]"
   ]
  },
  {
   "cell_type": "code",
   "execution_count": null,
   "id": "17e9e0dc",
   "metadata": {},
   "outputs": [],
   "source": [
    "handLift = 0\n",
    "i = 0\n",
    "while i <len(df):\n",
    "    if (((df.iloc[i+1,5]) - (df.iloc[i,5])) > 0.5):\n",
    "        handLift = handLift+1\n"
   ]
  },
  {
   "cell_type": "code",
   "execution_count": null,
   "id": "9d5e20e3",
   "metadata": {},
   "outputs": [],
   "source": [
    "print(handLift)"
   ]
  },
  {
   "cell_type": "code",
   "execution_count": null,
   "id": "e9254c8c",
   "metadata": {},
   "outputs": [],
   "source": []
  }
 ],
 "metadata": {
  "kernelspec": {
   "display_name": "Python 3",
   "language": "python",
   "name": "python3"
  },
  "language_info": {
   "codemirror_mode": {
    "name": "ipython",
    "version": 3
   },
   "file_extension": ".py",
   "mimetype": "text/x-python",
   "name": "python",
   "nbconvert_exporter": "python",
   "pygments_lexer": "ipython3",
   "version": "3.8.8"
  }
 },
 "nbformat": 4,
 "nbformat_minor": 5
}
