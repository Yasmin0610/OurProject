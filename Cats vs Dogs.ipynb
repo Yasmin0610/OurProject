{
 "cells": [
  {
   "cell_type": "markdown",
   "id": "f623d16e",
   "metadata": {},
   "source": [
    "# Cats vs Dogs "
   ]
  },
  {
   "cell_type": "code",
   "execution_count": 20,
   "id": "76f1e3d2",
   "metadata": {},
   "outputs": [],
   "source": [
    "import cv2\n",
    "import pandas as pd\n",
    "import numpy as np\n",
    "import os               \n",
    "from random import shuffle\n",
    "from tqdm import tqdm \n",
    "import matplotlib.pyplot as plt\n",
    "import warnings\n",
    "warnings.filterwarnings('ignore')\n",
    "import os\n",
    "import random\n",
    "import seaborn as sns\n",
    "from sklearn.model_selection import train_test_split\n",
    "from sklearn.decomposition import PCA\n",
    "from sklearn.linear_model import LogisticRegression\n",
    "from sklearn.neighbors import  KNeighborsClassifier\n",
    "from sklearn.ensemble import BaggingClassifier\n",
    "from sklearn.preprocessing import StandardScaler\n",
    "from sklearn.pipeline import Pipeline\n",
    "from sklearn.decomposition import PCA\n",
    "from sklearn.metrics import recall_score, confusion_matrix, precision_score, f1_score, accuracy_score, classification_report\n",
    "from sklearn.metrics import accuracy_score\n",
    "from sklearn.model_selection import cross_val_score\n",
    "from sklearn import metrics\n",
    "from sklearn.metrics import confusion_matrix\n",
    "from sklearn.naive_bayes import GaussianNB\n",
    "from sklearn.ensemble import AdaBoostClassifier\n",
    "from sklearn.datasets import make_classification\n",
    "from sklearn.ensemble import VotingClassifier\n",
    "from xgboost.sklearn import XGBClassifier\n",
    "from sklearn.tree import DecisionTreeClassifier\n",
    "from sklearn.ensemble import RandomForestClassifier"
   ]
  },
  {
   "cell_type": "code",
   "execution_count": 21,
   "id": "e8e8fb06",
   "metadata": {},
   "outputs": [
    {
     "name": "stdout",
     "output_type": "stream",
     "text": [
      "Requirement already satisfied: opencv-python in c:\\users\\yasmi\\anaconda3\\lib\\site-packages (4.5.5.64)\n",
      "Requirement already satisfied: numpy>=1.14.5 in c:\\users\\yasmi\\anaconda3\\lib\\site-packages (from opencv-python) (1.20.1)\n",
      "Note: you may need to restart the kernel to use updated packages.\n"
     ]
    }
   ],
   "source": [
    "pip install opencv-python"
   ]
  },
  {
   "cell_type": "markdown",
   "id": "0481fad5",
   "metadata": {},
   "source": [
    "**Lets resize all of our pictures and turn them into A dataset.**"
   ]
  },
  {
   "cell_type": "code",
   "execution_count": 33,
   "id": "b6eee959",
   "metadata": {},
   "outputs": [],
   "source": [
    "TRAIN_DIRECTORY= r'C:\\Users\\yasmi\\OneDrive\\Desktop\\dogs-vs-cats\\train' \n",
    "IMG_SIZE = 50\n",
    "LR = 1e-3\n",
    "\n",
    "MODEL_NAME = 'dogsvscats-{}-{}.model'.format(LR, '2conv-basic')"
   ]
  },
  {
   "cell_type": "code",
   "execution_count": 34,
   "id": "ab5ef7b2",
   "metadata": {},
   "outputs": [],
   "source": [
    "def label_img(img):\n",
    "    word_label = img.split('.')[-3]\n",
    "   \n",
    "    if word_label == 'cat': return 1\n",
    "    #                             \n",
    "    elif word_label == 'dog': return 0"
   ]
  },
  {
   "cell_type": "code",
   "execution_count": 35,
   "id": "3dccee4e",
   "metadata": {},
   "outputs": [
    {
     "name": "stderr",
     "output_type": "stream",
     "text": [
      "100%|██████████| 6708/6708 [00:19<00:00, 348.05it/s]\n"
     ]
    }
   ],
   "source": [
    "labal_data =[]\n",
    "training_data = []\n",
    "for img in tqdm(os.listdir(TRAIN_DIRECTORY)):\n",
    "        label = label_img(img)\n",
    "        path = os.path.join(TRAIN_DIRECTORY,img)\n",
    "        img = cv2.imread(path, cv2.COLOR_BGR2RGB)\n",
    "        img = cv2.resize(img, (IMG_SIZE,IMG_SIZE))\n",
    "        training_data.append(pd.Series(img.flatten()))\n",
    "        labal_data.append(label)"
   ]
  },
  {
   "cell_type": "code",
   "execution_count": 36,
   "id": "fd6ec8ba",
   "metadata": {},
   "outputs": [],
   "source": [
    "images_df = pd.DataFrame(training_data)\n",
    "labels_df = pd.DataFrame(labal_data, columns = ['labels'])"
   ]
  },
  {
   "cell_type": "code",
   "execution_count": 37,
   "id": "64f46857",
   "metadata": {},
   "outputs": [],
   "source": [
    "df = pd.concat([images_df, labels_df], axis=1)"
   ]
  },
  {
   "cell_type": "markdown",
   "id": "e1b2e8f8",
   "metadata": {},
   "source": [
    "# Logistic Regression Model"
   ]
  },
  {
   "cell_type": "code",
   "execution_count": 38,
   "id": "fd5fdca3",
   "metadata": {},
   "outputs": [],
   "source": [
    "X = df.drop(['labels'],axis=1)\n",
    "Y = df['labels']"
   ]
  },
  {
   "cell_type": "code",
   "execution_count": 42,
   "id": "1a2a9f0a",
   "metadata": {},
   "outputs": [
    {
     "name": "stdout",
     "output_type": "stream",
     "text": [
      "Xtrain :  (4695, 7500)\n",
      "Xtest :  (2013, 7500)\n",
      "Ytrain :  (4695,)\n",
      "Ytest :  (2013,)\n"
     ]
    }
   ],
   "source": [
    "Xtrain, Xtest, Ytrain, Ytest = train_test_split(X, Y, test_size=0.3, random_state=120)\n",
    "print(\"Xtrain : \",Xtrain.shape)\n",
    "print(\"Xtest : \",Xtest.shape)\n",
    "print(\"Ytrain : \",Ytrain.shape)\n",
    "print(\"Ytest : \",Ytest.shape)"
   ]
  },
  {
   "cell_type": "code",
   "execution_count": null,
   "id": "11949d14",
   "metadata": {},
   "outputs": [],
   "source": []
  }
 ],
 "metadata": {
  "kernelspec": {
   "display_name": "Python 3",
   "language": "python",
   "name": "python3"
  },
  "language_info": {
   "codemirror_mode": {
    "name": "ipython",
    "version": 3
   },
   "file_extension": ".py",
   "mimetype": "text/x-python",
   "name": "python",
   "nbconvert_exporter": "python",
   "pygments_lexer": "ipython3",
   "version": "3.8.8"
  }
 },
 "nbformat": 4,
 "nbformat_minor": 5
}
